{
 "cells": [
  {
   "cell_type": "code",
   "execution_count": null,
   "id": "b2df54a8",
   "metadata": {},
   "outputs": [],
   "source": [
    "class MyClass:\n",
    "    shared_variable = 0  # This is a class variable\n",
    "\n",
    "    def __init__(self, name):\n",
    "        self.name = name\n",
    "\n",
    "    def read_shared(self):\n",
    "        print(f\"{self.name} reads shared_variable: {MyClass.shared_variable}\")\n",
    "\n",
    "    def modify_shared(self, new_value):\n",
    "        MyClass.shared_variable = new_value\n",
    "        print(f\"{self.name} modified shared_variable to: {MyClass.shared_variable}\")"
   ]
  },
  {
   "cell_type": "code",
   "execution_count": 3,
   "id": "e84bfdab",
   "metadata": {},
   "outputs": [
    {
     "name": "stdout",
     "output_type": "stream",
     "text": [
      "Object 1 reads shared_variable: 25\n",
      "Object 2 reads shared_variable: 25\n",
      "Object 1 modified shared_variable to: 10\n",
      "Object 2 reads shared_variable: 10\n",
      "Object 2 modified shared_variable to: 25\n",
      "Object 1 reads shared_variable: 25\n",
      "Object 1 reads shared_variable: 25\n"
     ]
    }
   ],
   "source": [
    "# Create two objects of MyClass\n",
    "obj1 = MyClass(\"Object 1\")\n",
    "obj2 = MyClass(\"Object 2\")\n",
    "\n",
    "# Both objects can read the shared variable\n",
    "obj1.read_shared()\n",
    "obj2.read_shared()\n",
    "\n",
    "# One object modifies the shared variable\n",
    "obj1.modify_shared(10)\n",
    "\n",
    "# The other object sees the change\n",
    "obj2.read_shared()\n",
    "\n",
    "# Now the second object modifies it\n",
    "obj2.modify_shared(25)\n",
    "\n",
    "# The first object sees the new change\n",
    "obj1.read_shared()\n",
    "\n",
    "obj2.share_variable = 100  # This will not change the class variable\n",
    "# The class variable remains unchanged\n",
    "obj1.read_shared()  # Still shows the original class variable value"
   ]
  },
  {
   "cell_type": "code",
   "execution_count": null,
   "id": "869d176e",
   "metadata": {},
   "outputs": [],
   "source": []
  }
 ],
 "metadata": {
  "kernelspec": {
   "display_name": ".venv",
   "language": "python",
   "name": "python3"
  },
  "language_info": {
   "codemirror_mode": {
    "name": "ipython",
    "version": 3
   },
   "file_extension": ".py",
   "mimetype": "text/x-python",
   "name": "python",
   "nbconvert_exporter": "python",
   "pygments_lexer": "ipython3",
   "version": "3.12.2"
  }
 },
 "nbformat": 4,
 "nbformat_minor": 5
}
