{
 "cells": [
  {
   "cell_type": "code",
   "execution_count": 1,
   "id": "7f341741",
   "metadata": {},
   "outputs": [],
   "source": [
    "# Solving XOR Gate using Multi-Layer Perceptron (MLP) from scratch\n",
    "import numpy as np"
   ]
  },
  {
   "cell_type": "code",
   "execution_count": null,
   "id": "942017f6",
   "metadata": {},
   "outputs": [],
   "source": [
    "class MLP:\n",
    "    def __init__(self, input_size, hidden_size, output_size, learning_rate=0.01):\n",
    "        self.input_size = input_size\n",
    "        self.hidden_size = hidden_size\n",
    "        self.output_size = output_size\n",
    "        self.learning_rate = learning_rate\n",
    "\n",
    "        # Initialize weights and biases\n",
    "        self.W1 = np.random.rand(self.input_size, self.hidden_size)\n",
    "        self.b1 = np.random.rand(self.hidden_size)\n",
    "        self.W2 = np.random.rand(self.hidden_size, self.output_size)\n",
    "        self.b2 = np.random.rand(self.output_size)\n",
    "\n",
    "    def sigmoid(self, x):\n",
    "        return 1 / (1 + np.exp(-x))\n",
    "\n",
    "    def sigmoid_derivative(self, x):\n",
    "        return x * (1 - x)\n",
    "\n",
    "    def forward(self, X):\n",
    "        self.z1 = np.dot(X, self.W1) + self.b1\n",
    "        self.a1 = self.sigmoid(self.z1)\n",
    "        self.z2 = np.dot(self.a1, self.W2) + self.b2\n",
    "        output = self.sigmoid(self.z2)\n",
    "        return output\n",
    "\n",
    "    def backward(self, X, y, output):\n",
    "        output_error = y - output\n",
    "        output_delta = output_error * self.sigmoid_derivative(output)\n",
    "\n",
    "        hidden_error = np.dot(output_delta, self.W2.T)\n",
    "        hidden_delta = hidden_error * self.sigmoid_derivative(self.a1)\n",
    "\n",
    "        # Update weights and biases\n",
    "        self.W2 += np.dot(self.a1.T, output_delta) * self.learning_rate\n",
    "        self.b2 += np.sum(output_delta, axis=0) * self.learning_rate\n",
    "        self.W1 += np.dot(X.T, hidden_delta) * self.learning_rate\n",
    "        self.b1 += np.sum(hidden_delta, axis=0) * self.learning_rate\n",
    "\n",
    "    def train(self, X, y, epochs=10000):\n",
    "        for epoch in range(epochs):\n",
    "            output = self.forward(X)\n",
    "            if epoch % 1000 == 0:\n",
    "                loss = np.mean(np.square(y - output))\n",
    "                print(f\"Epoch {epoch}, Loss: {loss}\")\n",
    "            self.backward(X, y, output)\n",
    "\n",
    "    def predict(self, X):\n",
    "        output = self.forward(X)\n",
    "        return np.round(output)"
   ]
  },
  {
   "cell_type": "code",
   "execution_count": null,
   "id": "0f4f4c85",
   "metadata": {},
   "outputs": [],
   "source": [
    "import matplotlib.pyplot as plt\n",
    "\n",
    "\n",
    "def plot_decision_boundary(model, X, y):\n",
    "    x_min, x_max = X[:, 0].min() - 1, X[:, 0].max() + 1\n",
    "    y_min, y_max = X[:, 1].min() - 1, X[:, 1].max() + 1\n",
    "    h = 0.01\n",
    "    xx, yy = np.meshgrid(np.arange(x_min, x_max, h), np.arange(y_min, y_max, h))\n",
    "    Z = model.predict(np.c_[xx.ravel(), yy.ravel()])\n",
    "    Z = Z.reshape(xx.shape)\n",
    "    plt.contourf(xx, yy, Z, cmap=plt.cm.Spectral)\n",
    "    plt.scatter(X[:, 0], X[:, 1], c=y, cmap=plt.cm.Spectral)\n",
    "    plt.show()"
   ]
  },
  {
   "cell_type": "code",
   "execution_count": null,
   "id": "9ff55622",
   "metadata": {},
   "outputs": [],
   "source": [
    "# Define the XOR dataset\n",
    "X = np.array([[0, 0], [0, 1], [1, 0], [1, 1]])\n",
    "y = np.array([[0], [1], [1], [0]])"
   ]
  },
  {
   "cell_type": "code",
   "execution_count": 5,
   "id": "475dbc8d",
   "metadata": {},
   "outputs": [
    {
     "name": "stdout",
     "output_type": "stream",
     "text": [
      "Epoch 0, Loss: 0.36776099248920735\n",
      "Epoch 1000, Loss: 0.24982132171109606\n",
      "Epoch 2000, Loss: 0.2492591930027343\n",
      "Epoch 3000, Loss: 0.24572749477379816\n",
      "Epoch 4000, Loss: 0.22065406865512927\n",
      "Epoch 5000, Loss: 0.1763782576102075\n",
      "Epoch 6000, Loss: 0.09010595178756153\n",
      "Epoch 7000, Loss: 0.02323318213821518\n",
      "Epoch 8000, Loss: 0.010696512706602051\n",
      "Epoch 9000, Loss: 0.006607385862727474\n"
     ]
    }
   ],
   "source": [
    "# train the MLP\n",
    "mlp = MLP(input_size=2, hidden_size=2, output_size=1, learning_rate=0.1)\n",
    "mlp.train(X, y, epochs=10000)"
   ]
  },
  {
   "cell_type": "code",
   "execution_count": 6,
   "id": "a383a87d",
   "metadata": {},
   "outputs": [
    {
     "name": "stdout",
     "output_type": "stream",
     "text": [
      "[[0.]\n",
      " [1.]\n",
      " [1.]\n",
      " [0.]]\n"
     ]
    },
    {
     "data": {
      "image/png": "[encoded data removed]",
      "text/plain": [
       "<Figure size 640x480 with 1 Axes>"
      ]
     },
     "metadata": {},
     "output_type": "display_data"
    }
   ],
   "source": [
    "# test the MLP\n",
    "predictions = mlp.predict(X)\n",
    "print(predictions)\n",
    "plot_decision_boundary(mlp, X, y)"
   ]
  },
  {
   "cell_type": "code",
   "execution_count": null,
   "id": "364a6b0f",
   "metadata": {},
   "outputs": [],
   "source": []
  }
 ],
 "metadata": {
  "kernelspec": {
   "display_name": ".venv",
   "language": "python",
   "name": "python3"
  },
  "language_info": {
   "codemirror_mode": {
    "name": "ipython",
    "version": 3
   },
   "file_extension": ".py",
   "mimetype": "text/x-python",
   "name": "python",
   "nbconvert_exporter": "python",
   "pygments_lexer": "ipython3",
   "version": "3.12.2"
  }
 },
 "nbformat": 4,
 "nbformat_minor": 5
}
