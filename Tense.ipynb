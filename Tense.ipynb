{
 "cells": [
  {
   "cell_type": "code",
   "execution_count": 1,
   "id": "07a4c23d",
   "metadata": {},
   "outputs": [],
   "source": [
    "import tensorflow as tf"
   ]
  },
  {
   "cell_type": "code",
   "execution_count": 4,
   "id": "3eea45dc",
   "metadata": {},
   "outputs": [
    {
     "data": {
      "text/plain": [
       "TensorShape([])"
      ]
     },
     "execution_count": 4,
     "metadata": {},
     "output_type": "execute_result"
    }
   ],
   "source": [
    "x = tf.constant(3)\n",
    "x.shape"
   ]
  },
  {
   "cell_type": "code",
   "execution_count": 5,
   "id": "7615fd60",
   "metadata": {},
   "outputs": [
    {
     "data": {
      "text/plain": [
       "TensorShape([3])"
      ]
     },
     "execution_count": 5,
     "metadata": {},
     "output_type": "execute_result"
    }
   ],
   "source": [
    "x1 = tf.constant([1, 2, 3])\n",
    "x1.shape"
   ]
  },
  {
   "cell_type": "code",
   "execution_count": null,
   "id": "106dbb51",
   "metadata": {},
   "outputs": [
    {
     "data": {
      "text/plain": [
       "TensorShape([2, 2])"
      ]
     },
     "execution_count": 6,
     "metadata": {},
     "output_type": "execute_result"
    }
   ],
   "source": [
    "x2 = tf.constant([[1, 2], [3, 4]])\n",
    "x2.shape"
   ]
  },
  {
   "cell_type": "code",
   "execution_count": null,
   "id": "c5fd2a70",
   "metadata": {},
   "outputs": [
    {
     "data": {
      "text/plain": [
       "TensorShape([2, 3, 4])"
      ]
     },
     "execution_count": 8,
     "metadata": {},
     "output_type": "execute_result"
    }
   ],
   "source": [
    "# 3d tensor (2, 3, 4)\n",
    "x3 = tf.constant(\n",
    "    [\n",
    "        [[1, 2, 3, 4], [5, 6, 7, 8], [9, 10, 11, 12]],\n",
    "        [[13, 14, 15, 16], [17, 18, 19, 20], [21, 22, 23, 24]],\n",
    "    ]\n",
    ")\n",
    "x3.shape"
   ]
  },
  {
   "cell_type": "code",
   "execution_count": 15,
   "id": "ea7ba462",
   "metadata": {},
   "outputs": [
    {
     "name": "stdout",
     "output_type": "stream",
     "text": [
      "tf.Tensor(3, shape=(), dtype=int32)\n"
     ]
    }
   ],
   "source": [
    "print(tf.rank(x3))"
   ]
  },
  {
   "cell_type": "code",
   "execution_count": null,
   "id": "2b253810",
   "metadata": {},
   "outputs": [
    {
     "name": "stdout",
     "output_type": "stream",
     "text": [
      "tf.Tensor(2, shape=(), dtype=int32)\n"
     ]
    }
   ],
   "source": [
    "t1 = tf.constant([[13, 14, 15, 16], [17, 18, 19, 20], [21, 22, 23, 24]])\n",
    "print(tf.rank(t1))"
   ]
  },
  {
   "cell_type": "code",
   "execution_count": 17,
   "id": "7d09023d",
   "metadata": {},
   "outputs": [
    {
     "name": "stdout",
     "output_type": "stream",
     "text": [
      "tf.Tensor(\n",
      "[[1. 0. 0.]\n",
      " [0. 1. 0.]\n",
      " [0. 0. 1.]], shape=(3, 3), dtype=float32)\n"
     ]
    }
   ],
   "source": [
    "id1 = tf.eye(3)\n",
    "print(id1)"
   ]
  },
  {
   "cell_type": "code",
   "execution_count": 19,
   "id": "c7f7374d",
   "metadata": {},
   "outputs": [
    {
     "name": "stdout",
     "output_type": "stream",
     "text": [
      "tf.Tensor(\n",
      "[[[0. 0. 0. 0. 0.]\n",
      "  [0. 0. 0. 0. 0.]\n",
      "  [0. 0. 0. 0. 0.]\n",
      "  [0. 0. 0. 0. 0.]]\n",
      "\n",
      " [[0. 0. 0. 0. 0.]\n",
      "  [0. 0. 0. 0. 0.]\n",
      "  [0. 0. 0. 0. 0.]\n",
      "  [0. 0. 0. 0. 0.]]\n",
      "\n",
      " [[0. 0. 0. 0. 0.]\n",
      "  [0. 0. 0. 0. 0.]\n",
      "  [0. 0. 0. 0. 0.]\n",
      "  [0. 0. 0. 0. 0.]]], shape=(3, 4, 5), dtype=float32)\n"
     ]
    }
   ],
   "source": [
    "# matrix of zeros\n",
    "z1 = tf.zeros((3, 4, 5))\n",
    "print(z1)"
   ]
  },
  {
   "cell_type": "code",
   "execution_count": 23,
   "id": "c62dbb9e",
   "metadata": {},
   "outputs": [
    {
     "name": "stdout",
     "output_type": "stream",
     "text": [
      "tf.Tensor(\n",
      "[[[1. 1. 1. 1. 1.]\n",
      "  [1. 1. 1. 1. 1.]\n",
      "  [1. 1. 1. 1. 1.]\n",
      "  [1. 1. 1. 1. 1.]]\n",
      "\n",
      " [[1. 1. 1. 1. 1.]\n",
      "  [1. 1. 1. 1. 1.]\n",
      "  [1. 1. 1. 1. 1.]\n",
      "  [1. 1. 1. 1. 1.]]\n",
      "\n",
      " [[1. 1. 1. 1. 1.]\n",
      "  [1. 1. 1. 1. 1.]\n",
      "  [1. 1. 1. 1. 1.]\n",
      "  [1. 1. 1. 1. 1.]]], shape=(3, 4, 5), dtype=float32)\n"
     ]
    }
   ],
   "source": [
    "o1 = tf.ones((3, 4, 5))\n",
    "print(o1)"
   ]
  },
  {
   "cell_type": "code",
   "execution_count": 27,
   "id": "f61d50f8",
   "metadata": {},
   "outputs": [
    {
     "name": "stdout",
     "output_type": "stream",
     "text": [
      "tf.Tensor(\n",
      "[[[5.0291061e-01 2.1524715e-01 3.3199382e-01 7.5717211e-01 2.9579806e-01]\n",
      "  [8.2445145e-04 7.3835015e-01 8.2994819e-02 9.2074943e-01 1.8405676e-01]\n",
      "  [9.4535458e-01 6.5458727e-01 7.3626947e-01 8.7712777e-01 3.8370764e-01]\n",
      "  [4.9539673e-01 5.2715325e-01 1.2614071e-01 1.8986118e-01 9.6341848e-01]]\n",
      "\n",
      " [[5.9684050e-01 9.8443127e-01 4.6796179e-01 1.3292563e-01 3.6666954e-01]\n",
      "  [9.9559033e-01 3.7766814e-02 2.0225191e-01 6.1761594e-01 3.3830369e-01]\n",
      "  [1.7106748e-01 3.4088719e-01 2.2629571e-01 5.0055015e-01 4.8319340e-02]\n",
      "  [1.0044575e-03 8.4733582e-01 8.0916381e-01 9.4478464e-01 5.1517606e-02]]\n",
      "\n",
      " [[2.2978747e-01 6.9476986e-01 1.6994691e-01 1.8417966e-01 7.6749504e-01]\n",
      "  [8.6411071e-01 1.0880709e-02 7.4574494e-01 5.8937418e-01 2.3415875e-01]\n",
      "  [5.3935385e-01 2.3803556e-01 4.8773468e-01 4.2381465e-01 2.6986933e-01]\n",
      "  [6.2647843e-01 4.0898561e-02 7.6232612e-01 3.4036660e-01 7.9089057e-01]]], shape=(3, 4, 5), dtype=float32)\n",
      "tf.Tensor(\n",
      "[[[-2.383187   -0.8835618   0.08716791 -0.49379304  0.37955454]\n",
      "  [ 0.07404301 -1.6409932  -1.2673537  -1.8143858   0.69378537]\n",
      "  [ 1.715996   -0.8342029  -0.28297594 -1.0800402   0.3602106 ]\n",
      "  [ 0.7292727  -0.86448234 -2.844179    1.2191371  -1.0808986 ]]\n",
      "\n",
      " [[-1.527462   -1.4874331   0.21824405 -0.18187252 -0.43640652]\n",
      "  [-0.55948067 -0.8394759   0.13360389  1.3311012  -1.4761214 ]\n",
      "  [-1.0850096   0.11298925  0.981726    0.76610386  1.2977194 ]\n",
      "  [ 1.8679789   0.49840373  0.80360055  1.030464   -1.8526753 ]]\n",
      "\n",
      " [[-0.41642436  2.5637662   0.7839974   0.04918399 -0.6988344 ]\n",
      "  [-0.09226347 -0.3739533  -0.8515084   0.5155128   0.34826952]\n",
      "  [ 0.4334651  -0.24789469  1.2135103   0.04857679  0.7729307 ]\n",
      "  [-0.65885323 -0.8970128  -1.1990451   0.41504788  0.9890984 ]]], shape=(3, 4, 5), dtype=float32)\n"
     ]
    }
   ],
   "source": [
    "r1 = tf.random.uniform((3, 4, 5), minval=0, maxval=1, dtype=tf.float32)\n",
    "r2 = tf.random.normal((3, 4, 5), mean=0, stddev=1, dtype=tf.float32)\n",
    "print(r1)\n",
    "print(r2)"
   ]
  },
  {
   "cell_type": "code",
   "execution_count": null,
   "id": "33cb392e",
   "metadata": {},
   "outputs": [],
   "source": []
  }
 ],
 "metadata": {
  "kernelspec": {
   "display_name": ".venv",
   "language": "python",
   "name": "python3"
  },
  "language_info": {
   "codemirror_mode": {
    "name": "ipython",
    "version": 3
   },
   "file_extension": ".py",
   "mimetype": "text/x-python",
   "name": "python",
   "nbconvert_exporter": "python",
   "pygments_lexer": "ipython3",
   "version": "3.12.2"
  }
 },
 "nbformat": 4,
 "nbformat_minor": 5
}
